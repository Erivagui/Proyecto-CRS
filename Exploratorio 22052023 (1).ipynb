{
  "nbformat": 4,
  "nbformat_minor": 0,
  "metadata": {
    "colab": {
      "provenance": []
    },
    "kernelspec": {
      "name": "python3",
      "display_name": "Python 3"
    },
    "language_info": {
      "name": "python"
    }
  },
  "cells": [
    {
      "cell_type": "code",
      "execution_count": 23,
      "metadata": {
        "id": "muHu16BbOOgt"
      },
      "outputs": [],
      "source": [
        "import pandas as pd\n",
        "import matplotlib.pyplot as plt\n",
        "import numpy as np\n",
        "import seaborn as sns"
      ]
    },
    {
      "cell_type": "markdown",
      "source": [
        "Damos acceso a nuestro google drive"
      ],
      "metadata": {
        "id": "CPfPAKPTjpV1"
      }
    },
    {
      "cell_type": "code",
      "source": [
        "from google.colab import drive\n",
        "drive.mount(\"/content/drive/\")"
      ],
      "metadata": {
        "colab": {
          "base_uri": "https://localhost:8080/"
        },
        "id": "kYRd_kzSOlFw",
        "outputId": "19ff19ed-d9e5-4408-fccf-fa7e54c91726"
      },
      "execution_count": null,
      "outputs": [
        {
          "output_type": "stream",
          "name": "stdout",
          "text": [
            "Mounted at /content/drive/\n"
          ]
        }
      ]
    },
    {
      "cell_type": "code",
      "source": [
        "file = \"https://raw.githubusercontent.com/Erivagui/Proyecto-CRS/main/Exploratorio%202.csv\""
      ],
      "metadata": {
        "id": "5CqV8quqUvYA"
      },
      "execution_count": 24,
      "outputs": []
    },
    {
      "cell_type": "code",
      "source": [
        "import chardet\n",
        "with open(file, 'rb') as rawdata:\n",
        "    result = chardet.detect(rawdata.read(100000))\n",
        "result"
      ],
      "metadata": {
        "colab": {
          "base_uri": "https://localhost:8080/"
        },
        "id": "t38a9c9YWv5J",
        "outputId": "ea239e7b-3d9f-4c1b-fec6-86460a563a48"
      },
      "execution_count": null,
      "outputs": [
        {
          "output_type": "execute_result",
          "data": {
            "text/plain": [
              "{'encoding': 'ISO-8859-1', 'confidence': 0.73, 'language': ''}"
            ]
          },
          "metadata": {},
          "execution_count": 4
        }
      ]
    },
    {
      "cell_type": "markdown",
      "source": [
        "Cargamos el arhivo y visualizamos las primeras filas para asegurarnos que es el archivo que necesitamos"
      ],
      "metadata": {
        "id": "cDndOxGglJh7"
      }
    },
    {
      "cell_type": "code",
      "source": [
        "#datos = pd.read_csv(file,sep =\";\")\n",
        "datos = pd.read_csv(file, index_col=0, encoding='latin-1')\n",
        "datos.head()"
      ],
      "metadata": {
        "id": "DRBXGDPEW9s-",
        "outputId": "436fc227-a9fd-43b2-f924-dba4192396fb",
        "colab": {
          "base_uri": "https://localhost:8080/",
          "height": 542
        }
      },
      "execution_count": 25,
      "outputs": [
        {
          "output_type": "execute_result",
          "data": {
            "text/plain": [
              "                Area (Ha)  Edad promedio plantas  Densidad (plantas/Ha)  \\\n",
              "Sexo productor                                                            \n",
              "Hombre               3.06                    6.0                 653.59   \n",
              "Hombre               0.60                    5.0                1000.00   \n",
              "Hombre               2.19                    6.0                 639.27   \n",
              "Hombre               0.40                    6.0                 875.00   \n",
              "Hombre               0.70                    5.0                1000.00   \n",
              "\n",
              "                                          Tipo suelo    Latitud   Longitud  \\\n",
              "Sexo productor                                                               \n",
              "Hombre          Latosoles Arcillo Rojizos, Andisoles  13.911700 -89.829000   \n",
              "Hombre          Latosoles Arcillo Rojizos, Andisoles  13.477103 -88.559569   \n",
              "Hombre          Latosoles Arcillo Rojizos, Andisoles  13.908100 -89.826100   \n",
              "Hombre          Latosoles Arcillo Rojizos, Andisoles  13.911500 -89.829600   \n",
              "Hombre                                     Andisoles  13.939200 -89.736800   \n",
              "\n",
              "                    Altura  Porcentaje injertacion  Aplica poda  \\\n",
              "Sexo productor                                                    \n",
              "Hombre          849.000000                     0.0            1   \n",
              "Hombre          812.713379                     0.0            1   \n",
              "Hombre          882.000000                     0.0            1   \n",
              "Hombre          858.000000                     0.0            1   \n",
              "Hombre          854.000000                     0.0            1   \n",
              "\n",
              "                Maneja sombra Fertilizacion organica Fertilizacion quimica  \\\n",
              "Sexo productor                                                               \n",
              "Hombre                      1                     Si                    Si   \n",
              "Hombre                      1                     Si                    Si   \n",
              "Hombre                      1                     Si                    Si   \n",
              "Hombre                      1                     Si                    Si   \n",
              "Hombre                      1                     Si                    Si   \n",
              "\n",
              "                Presencia de plagas/ enfermedades  Recibe AT  Perdidas (qq)  \\\n",
              "Sexo productor                                                                \n",
              "Hombre                                          0          0        6.59736   \n",
              "Hombre                                          0          0        0.30888   \n",
              "Hombre                                          0          0        2.34168   \n",
              "Hombre                                          0          0        0.07656   \n",
              "Hombre                                          0          0        0.47608   \n",
              "\n",
              "                Produccion efectiva (qq)  \n",
              "Sexo productor                            \n",
              "Hombre                          31.10096  \n",
              "Hombre                           1.42648  \n",
              "Hombre                          10.46584  \n",
              "Hombre                           0.30800  \n",
              "Hombre                           2.50008  "
            ],
            "text/html": [
              "\n",
              "  <div id=\"df-65a85f13-c5d3-4a52-96cc-44f1823890d4\">\n",
              "    <div class=\"colab-df-container\">\n",
              "      <div>\n",
              "<style scoped>\n",
              "    .dataframe tbody tr th:only-of-type {\n",
              "        vertical-align: middle;\n",
              "    }\n",
              "\n",
              "    .dataframe tbody tr th {\n",
              "        vertical-align: top;\n",
              "    }\n",
              "\n",
              "    .dataframe thead th {\n",
              "        text-align: right;\n",
              "    }\n",
              "</style>\n",
              "<table border=\"1\" class=\"dataframe\">\n",
              "  <thead>\n",
              "    <tr style=\"text-align: right;\">\n",
              "      <th></th>\n",
              "      <th>Area (Ha)</th>\n",
              "      <th>Edad promedio plantas</th>\n",
              "      <th>Densidad (plantas/Ha)</th>\n",
              "      <th>Tipo suelo</th>\n",
              "      <th>Latitud</th>\n",
              "      <th>Longitud</th>\n",
              "      <th>Altura</th>\n",
              "      <th>Porcentaje injertacion</th>\n",
              "      <th>Aplica poda</th>\n",
              "      <th>Maneja sombra</th>\n",
              "      <th>Fertilizacion organica</th>\n",
              "      <th>Fertilizacion quimica</th>\n",
              "      <th>Presencia de plagas/ enfermedades</th>\n",
              "      <th>Recibe AT</th>\n",
              "      <th>Perdidas (qq)</th>\n",
              "      <th>Produccion efectiva (qq)</th>\n",
              "    </tr>\n",
              "    <tr>\n",
              "      <th>Sexo productor</th>\n",
              "      <th></th>\n",
              "      <th></th>\n",
              "      <th></th>\n",
              "      <th></th>\n",
              "      <th></th>\n",
              "      <th></th>\n",
              "      <th></th>\n",
              "      <th></th>\n",
              "      <th></th>\n",
              "      <th></th>\n",
              "      <th></th>\n",
              "      <th></th>\n",
              "      <th></th>\n",
              "      <th></th>\n",
              "      <th></th>\n",
              "      <th></th>\n",
              "    </tr>\n",
              "  </thead>\n",
              "  <tbody>\n",
              "    <tr>\n",
              "      <th>Hombre</th>\n",
              "      <td>3.06</td>\n",
              "      <td>6.0</td>\n",
              "      <td>653.59</td>\n",
              "      <td>Latosoles Arcillo Rojizos, Andisoles</td>\n",
              "      <td>13.911700</td>\n",
              "      <td>-89.829000</td>\n",
              "      <td>849.000000</td>\n",
              "      <td>0.0</td>\n",
              "      <td>1</td>\n",
              "      <td>1</td>\n",
              "      <td>Si</td>\n",
              "      <td>Si</td>\n",
              "      <td>0</td>\n",
              "      <td>0</td>\n",
              "      <td>6.59736</td>\n",
              "      <td>31.10096</td>\n",
              "    </tr>\n",
              "    <tr>\n",
              "      <th>Hombre</th>\n",
              "      <td>0.60</td>\n",
              "      <td>5.0</td>\n",
              "      <td>1000.00</td>\n",
              "      <td>Latosoles Arcillo Rojizos, Andisoles</td>\n",
              "      <td>13.477103</td>\n",
              "      <td>-88.559569</td>\n",
              "      <td>812.713379</td>\n",
              "      <td>0.0</td>\n",
              "      <td>1</td>\n",
              "      <td>1</td>\n",
              "      <td>Si</td>\n",
              "      <td>Si</td>\n",
              "      <td>0</td>\n",
              "      <td>0</td>\n",
              "      <td>0.30888</td>\n",
              "      <td>1.42648</td>\n",
              "    </tr>\n",
              "    <tr>\n",
              "      <th>Hombre</th>\n",
              "      <td>2.19</td>\n",
              "      <td>6.0</td>\n",
              "      <td>639.27</td>\n",
              "      <td>Latosoles Arcillo Rojizos, Andisoles</td>\n",
              "      <td>13.908100</td>\n",
              "      <td>-89.826100</td>\n",
              "      <td>882.000000</td>\n",
              "      <td>0.0</td>\n",
              "      <td>1</td>\n",
              "      <td>1</td>\n",
              "      <td>Si</td>\n",
              "      <td>Si</td>\n",
              "      <td>0</td>\n",
              "      <td>0</td>\n",
              "      <td>2.34168</td>\n",
              "      <td>10.46584</td>\n",
              "    </tr>\n",
              "    <tr>\n",
              "      <th>Hombre</th>\n",
              "      <td>0.40</td>\n",
              "      <td>6.0</td>\n",
              "      <td>875.00</td>\n",
              "      <td>Latosoles Arcillo Rojizos, Andisoles</td>\n",
              "      <td>13.911500</td>\n",
              "      <td>-89.829600</td>\n",
              "      <td>858.000000</td>\n",
              "      <td>0.0</td>\n",
              "      <td>1</td>\n",
              "      <td>1</td>\n",
              "      <td>Si</td>\n",
              "      <td>Si</td>\n",
              "      <td>0</td>\n",
              "      <td>0</td>\n",
              "      <td>0.07656</td>\n",
              "      <td>0.30800</td>\n",
              "    </tr>\n",
              "    <tr>\n",
              "      <th>Hombre</th>\n",
              "      <td>0.70</td>\n",
              "      <td>5.0</td>\n",
              "      <td>1000.00</td>\n",
              "      <td>Andisoles</td>\n",
              "      <td>13.939200</td>\n",
              "      <td>-89.736800</td>\n",
              "      <td>854.000000</td>\n",
              "      <td>0.0</td>\n",
              "      <td>1</td>\n",
              "      <td>1</td>\n",
              "      <td>Si</td>\n",
              "      <td>Si</td>\n",
              "      <td>0</td>\n",
              "      <td>0</td>\n",
              "      <td>0.47608</td>\n",
              "      <td>2.50008</td>\n",
              "    </tr>\n",
              "  </tbody>\n",
              "</table>\n",
              "</div>\n",
              "      <button class=\"colab-df-convert\" onclick=\"convertToInteractive('df-65a85f13-c5d3-4a52-96cc-44f1823890d4')\"\n",
              "              title=\"Convert this dataframe to an interactive table.\"\n",
              "              style=\"display:none;\">\n",
              "        \n",
              "  <svg xmlns=\"http://www.w3.org/2000/svg\" height=\"24px\"viewBox=\"0 0 24 24\"\n",
              "       width=\"24px\">\n",
              "    <path d=\"M0 0h24v24H0V0z\" fill=\"none\"/>\n",
              "    <path d=\"M18.56 5.44l.94 2.06.94-2.06 2.06-.94-2.06-.94-.94-2.06-.94 2.06-2.06.94zm-11 1L8.5 8.5l.94-2.06 2.06-.94-2.06-.94L8.5 2.5l-.94 2.06-2.06.94zm10 10l.94 2.06.94-2.06 2.06-.94-2.06-.94-.94-2.06-.94 2.06-2.06.94z\"/><path d=\"M17.41 7.96l-1.37-1.37c-.4-.4-.92-.59-1.43-.59-.52 0-1.04.2-1.43.59L10.3 9.45l-7.72 7.72c-.78.78-.78 2.05 0 2.83L4 21.41c.39.39.9.59 1.41.59.51 0 1.02-.2 1.41-.59l7.78-7.78 2.81-2.81c.8-.78.8-2.07 0-2.86zM5.41 20L4 18.59l7.72-7.72 1.47 1.35L5.41 20z\"/>\n",
              "  </svg>\n",
              "      </button>\n",
              "      \n",
              "  <style>\n",
              "    .colab-df-container {\n",
              "      display:flex;\n",
              "      flex-wrap:wrap;\n",
              "      gap: 12px;\n",
              "    }\n",
              "\n",
              "    .colab-df-convert {\n",
              "      background-color: #E8F0FE;\n",
              "      border: none;\n",
              "      border-radius: 50%;\n",
              "      cursor: pointer;\n",
              "      display: none;\n",
              "      fill: #1967D2;\n",
              "      height: 32px;\n",
              "      padding: 0 0 0 0;\n",
              "      width: 32px;\n",
              "    }\n",
              "\n",
              "    .colab-df-convert:hover {\n",
              "      background-color: #E2EBFA;\n",
              "      box-shadow: 0px 1px 2px rgba(60, 64, 67, 0.3), 0px 1px 3px 1px rgba(60, 64, 67, 0.15);\n",
              "      fill: #174EA6;\n",
              "    }\n",
              "\n",
              "    [theme=dark] .colab-df-convert {\n",
              "      background-color: #3B4455;\n",
              "      fill: #D2E3FC;\n",
              "    }\n",
              "\n",
              "    [theme=dark] .colab-df-convert:hover {\n",
              "      background-color: #434B5C;\n",
              "      box-shadow: 0px 1px 3px 1px rgba(0, 0, 0, 0.15);\n",
              "      filter: drop-shadow(0px 1px 2px rgba(0, 0, 0, 0.3));\n",
              "      fill: #FFFFFF;\n",
              "    }\n",
              "  </style>\n",
              "\n",
              "      <script>\n",
              "        const buttonEl =\n",
              "          document.querySelector('#df-65a85f13-c5d3-4a52-96cc-44f1823890d4 button.colab-df-convert');\n",
              "        buttonEl.style.display =\n",
              "          google.colab.kernel.accessAllowed ? 'block' : 'none';\n",
              "\n",
              "        async function convertToInteractive(key) {\n",
              "          const element = document.querySelector('#df-65a85f13-c5d3-4a52-96cc-44f1823890d4');\n",
              "          const dataTable =\n",
              "            await google.colab.kernel.invokeFunction('convertToInteractive',\n",
              "                                                     [key], {});\n",
              "          if (!dataTable) return;\n",
              "\n",
              "          const docLinkHtml = 'Like what you see? Visit the ' +\n",
              "            '<a target=\"_blank\" href=https://colab.research.google.com/notebooks/data_table.ipynb>data table notebook</a>'\n",
              "            + ' to learn more about interactive tables.';\n",
              "          element.innerHTML = '';\n",
              "          dataTable['output_type'] = 'display_data';\n",
              "          await google.colab.output.renderOutput(dataTable, element);\n",
              "          const docLink = document.createElement('div');\n",
              "          docLink.innerHTML = docLinkHtml;\n",
              "          element.appendChild(docLink);\n",
              "        }\n",
              "      </script>\n",
              "    </div>\n",
              "  </div>\n",
              "  "
            ]
          },
          "metadata": {},
          "execution_count": 25
        }
      ]
    },
    {
      "cell_type": "markdown",
      "source": [
        "Cambiamos el nombre a las columnas para poder manejar los campos con facilidad"
      ],
      "metadata": {
        "id": "06qBRQFJlmYn"
      }
    },
    {
      "cell_type": "code",
      "source": [
        "datos.columns = [\"sexo\", \"area\", \"edad_promedio\",\n",
        "                 \"densidad\", \"tipo_de_suelo\", \"latitud\", \n",
        "                 \"longitud\", \"altura\", \"injertacion\", \"poda\",\n",
        "                 \"sombra\", \"fertilizacion_organica\", \"fertilizacion_quimica\",\n",
        "                 \"plagas_enfermedades\", \"asistencia_tecnica\", \n",
        "                 \"perdidas\", \"produccion\"]"
      ],
      "metadata": {
        "id": "i-LxwNtqiW-n"
      },
      "execution_count": null,
      "outputs": []
    },
    {
      "cell_type": "markdown",
      "source": [
        "Aseguramos que la tabla tenga el número de filas y columnas que nuestro archivo de origen"
      ],
      "metadata": {
        "id": "N2Dj4GqEl2I-"
      }
    },
    {
      "cell_type": "code",
      "source": [
        "datos.shape"
      ],
      "metadata": {
        "id": "hoT-38ZCah7f"
      },
      "execution_count": null,
      "outputs": []
    },
    {
      "cell_type": "code",
      "source": [
        "datos.size"
      ],
      "metadata": {
        "id": "k3p7ZXY7bJuX"
      },
      "execution_count": null,
      "outputs": []
    },
    {
      "cell_type": "markdown",
      "source": [
        "A continuación se muestran los campos que poseen vacios, en este punto es necesario completar dichos valores o eliminar las filas a las que pertenecen"
      ],
      "metadata": {
        "id": "alWcLg7_l_yV"
      }
    },
    {
      "cell_type": "code",
      "source": [
        "datos.isna().sum().sort_values()"
      ],
      "metadata": {
        "id": "Je1G_3xabNl-"
      },
      "execution_count": null,
      "outputs": []
    },
    {
      "cell_type": "code",
      "source": [
        "import matplotlib.pyplot as plt\n",
        "import seaborn as sns\n",
        "import plotly.express as px\n",
        "import plotly.figure_factory as ff"
      ],
      "metadata": {
        "id": "k2Jq9pSwhIUS"
      },
      "execution_count": null,
      "outputs": []
    },
    {
      "cell_type": "code",
      "source": [
        "fig = px.histogram(datos, x = datos.sexo,\n",
        "                   title=\"Distribución variable Sexo del productor\",\n",
        "                   color_discrete_sequence = [\"red\"], # color \n",
        "                   )\n",
        "fig.show()"
      ],
      "metadata": {
        "id": "DoAEYsfFhKWA"
      },
      "execution_count": null,
      "outputs": []
    },
    {
      "cell_type": "markdown",
      "source": [
        "De acuerdo al análisis anterior el **20%** de los productores es **mujer**"
      ],
      "metadata": {
        "id": "Bin72OmTqWRo"
      }
    },
    {
      "cell_type": "code",
      "source": [
        "fig = px.histogram(datos, x = datos.area,\n",
        "                   #x = np.log(datos.area), \n",
        "                   #x = np.sqrt(datos.area),\n",
        "                   title=\"Distribución variable Área (Ha)\", \n",
        "                   color_discrete_sequence = [\"red\"], # color \n",
        "                   marginal=\"rug\")\n",
        "fig.show()"
      ],
      "metadata": {
        "id": "qGcBaXycryOh"
      },
      "execution_count": null,
      "outputs": []
    },
    {
      "cell_type": "code",
      "source": [
        "fig = px.histogram(datos, x = datos.edad_promedio,\n",
        "                   #x = np.log(datos.precio), \n",
        "                   #x = np.sqrt(datos.precio),\n",
        "                   title=\"Distribución variable Edad promedio\", \n",
        "                   color_discrete_sequence = [\"red\"], # color \n",
        "                   marginal=\"rug\")\n",
        "fig.show()"
      ],
      "metadata": {
        "id": "GLMDUdb0sq7s"
      },
      "execution_count": null,
      "outputs": []
    },
    {
      "cell_type": "code",
      "source": [
        "fig = px.histogram(datos, x = datos.densidad,\n",
        "                   #x = np.log(datos.precio), \n",
        "                   #x = np.sqrt(datos.precio),\n",
        "                   title=\"Distribución variable Densidad\", \n",
        "                   color_discrete_sequence = [\"red\"], # color \n",
        "                   marginal=\"rug\")\n",
        "fig.show()"
      ],
      "metadata": {
        "id": "rC7SDpVFqdu7"
      },
      "execution_count": null,
      "outputs": []
    },
    {
      "cell_type": "code",
      "source": [
        "fig = px.histogram(datos, x = datos.tipo_de_suelo,\n",
        "                   #x = np.log(datos.precio), \n",
        "                   #x = np.sqrt(datos.precio),\n",
        "                   title=\"Distribución variable Tipo de suelo\", \n",
        "                   color_discrete_sequence = [\"red\"], # color \n",
        "                   marginal=\"rug\")\n",
        "fig.show()"
      ],
      "metadata": {
        "id": "7RW_SsAHuJMB"
      },
      "execution_count": null,
      "outputs": []
    },
    {
      "cell_type": "code",
      "source": [
        "fig = px.histogram(datos, x = datos.latitud,\n",
        "                   #x = np.log(datos.precio), \n",
        "                   #x = np.sqrt(datos.precio),\n",
        "                   title=\"Distribución variable Latitud\", \n",
        "                   color_discrete_sequence = [\"red\"], # color \n",
        "                   marginal=\"rug\")\n",
        "fig.show()"
      ],
      "metadata": {
        "id": "FXRXpp_wubye"
      },
      "execution_count": null,
      "outputs": []
    },
    {
      "cell_type": "code",
      "source": [
        "fig = px.histogram(datos, x = datos.longitud,\n",
        "                   #x = np.log(datos.precio), \n",
        "                   #x = np.sqrt(datos.precio),\n",
        "                   title=\"Distribución variable Longitud\", \n",
        "                   color_discrete_sequence = [\"red\"], # color \n",
        "                   marginal=\"rug\")\n",
        "fig.show()"
      ],
      "metadata": {
        "id": "SIlmFuzIurQJ"
      },
      "execution_count": null,
      "outputs": []
    },
    {
      "cell_type": "code",
      "source": [
        "fig = px.histogram(datos, x = datos.altura,\n",
        "                   #x = np.log(datos.precio), \n",
        "                   #x = np.sqrt(datos.precio),\n",
        "                   title=\"Distribución variable Altura\", \n",
        "                   color_discrete_sequence = [\"red\"], # color \n",
        "                   marginal=\"rug\")\n",
        "fig.show()"
      ],
      "metadata": {
        "id": "Av5VmHFRu87-"
      },
      "execution_count": null,
      "outputs": []
    },
    {
      "cell_type": "code",
      "source": [
        "fig = px.histogram(datos, x = datos.injertacion,\n",
        "                   #x = np.log(datos.precio), \n",
        "                   #x = np.sqrt(datos.precio),\n",
        "                   title=\"Distribución variable % de Injertación\", \n",
        "                   color_discrete_sequence = [\"red\"], # color \n",
        "                   marginal=\"rug\")\n",
        "fig.show()"
      ],
      "metadata": {
        "id": "CDYLTiWDvReL"
      },
      "execution_count": null,
      "outputs": []
    },
    {
      "cell_type": "code",
      "source": [
        "fig = px.histogram(datos, x = datos.poda,\n",
        "                   title=\"Distribución variable Aplicación de poda\",\n",
        "                   color_discrete_sequence = [\"red\"], # color \n",
        "                   )\n",
        "fig.show()"
      ],
      "metadata": {
        "id": "YqSou6R1wH0S"
      },
      "execution_count": null,
      "outputs": []
    },
    {
      "cell_type": "markdown",
      "source": [
        "De acuerdo al análisis anterior el **78%** de los productores es **aplican poda**"
      ],
      "metadata": {
        "id": "qKJ-IjifwgX-"
      }
    },
    {
      "cell_type": "code",
      "source": [
        "fig = px.histogram(datos, x = datos.sombra,\n",
        "                   title=\"Distribución variable Manejo de sombra\",\n",
        "                   color_discrete_sequence = [\"red\"], # color \n",
        "                   )\n",
        "fig.show()"
      ],
      "metadata": {
        "id": "7RJwsJnewql7"
      },
      "execution_count": null,
      "outputs": []
    },
    {
      "cell_type": "markdown",
      "source": [
        "De acuerdo al análisis anterior el **67%** de los productores es **maneja sombra**"
      ],
      "metadata": {
        "id": "Z3CO1s5Lw9dz"
      }
    },
    {
      "cell_type": "code",
      "source": [
        "#fig = px.histogram(datos, x = datos.precio,\n",
        "#                   x = np.log(datos.precio), \n",
        "#                   x = np.sqrt(datos.precio),\n",
        "#                   title=\"Distribución variable _\", \n",
        "#                   color_discrete_sequence = [\"red\"], # color \n",
        "#                   marginal=\"rug\")\n",
        "#fig.show()"
      ],
      "metadata": {
        "id": "BZm_8RZTuBhB"
      },
      "execution_count": null,
      "outputs": []
    },
    {
      "cell_type": "code",
      "source": [
        "corr_matrix = datos.select_dtypes(include=['float64', 'int']).corr(method='pearson')\n",
        "plt.figure(figsize=(9,8))\n",
        "sns.heatmap(corr_matrix, \n",
        "            annot=True,\n",
        "            linewidths=.5)\n",
        "\n",
        "plt.show()"
      ],
      "metadata": {
        "id": "i9eFKOexw_v1"
      },
      "execution_count": null,
      "outputs": []
    }
  ]
}